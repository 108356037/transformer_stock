{
 "cells": [
  {
   "cell_type": "code",
   "execution_count": 1,
   "metadata": {
    "ExecuteTime": {
     "end_time": "2020-06-17T15:20:40.826355Z",
     "start_time": "2020-06-17T15:20:40.435589Z"
    }
   },
   "outputs": [],
   "source": [
    "import pandas as pd\n",
    "import numpy as np\n",
    "import matplotlib.pyplot as plt\n",
    "from sklearn import preprocessing\n",
    "from sklearn.utils import shuffle\n",
    "import seaborn as sns\n",
    "import pickle\n",
    "import calendar\n",
    "import datetime\n",
    "import math"
   ]
  },
  {
   "cell_type": "code",
   "execution_count": 2,
   "metadata": {
    "ExecuteTime": {
     "end_time": "2020-06-17T15:20:42.035153Z",
     "start_time": "2020-06-17T15:20:42.032622Z"
    },
    "code_folding": []
   },
   "outputs": [],
   "source": [
    "def mean0std1normalizer(df, features,stockname):\n",
    "    df = df[features]\n",
    "    mean_std_dict = {}\n",
    "    mu = df.mean()\n",
    "    std = df.std()\n",
    "    df = (df-mu)/std\n",
    "    mean_std_dict[stockname] = {'mean':mu,'std':std }\n",
    "\n",
    "    return df, mean_std_dict"
   ]
  },
  {
   "cell_type": "code",
   "execution_count": null,
   "metadata": {
    "ExecuteTime": {
     "end_time": "2020-06-13T14:56:45.073225Z",
     "start_time": "2020-06-13T14:56:45.066474Z"
    },
    "code_folding": []
   },
   "outputs": [],
   "source": []
  },
  {
   "cell_type": "code",
   "execution_count": 3,
   "metadata": {
    "ExecuteTime": {
     "end_time": "2020-06-17T15:20:42.349247Z",
     "start_time": "2020-06-17T15:20:42.344700Z"
    }
   },
   "outputs": [],
   "source": [
    "def zero_2_one_normalizerV2(df,features,name):\n",
    "\n",
    "    mean_std_dict = {}\n",
    "\n",
    "    ultimate = pd.DataFrame(columns=features)\n",
    "    \n",
    "    subdf = df[features]\n",
    "    max_ = subdf.max()\n",
    "    min_ = subdf.min()\n",
    "    subdf = ((subdf-min_) /(max_-min_))\n",
    "    ultimate = pd.concat([ultimate, subdf])\n",
    "    mean_std_dict[name] = {'min': min_, 'max': max_}\n",
    "\n",
    "    return ultimate, mean_std_dict"
   ]
  },
  {
   "cell_type": "code",
   "execution_count": 4,
   "metadata": {
    "ExecuteTime": {
     "end_time": "2020-06-17T15:20:42.491456Z",
     "start_time": "2020-06-17T15:20:42.488290Z"
    },
    "code_folding": [
     0
    ]
   },
   "outputs": [],
   "source": [
    "def volume_normalizer(df):\n",
    "    \n",
    "    stocklist = df['Name'].unique()\n",
    "    for name in stocklist:\n",
    "        subdf = df[df['Name'] == name]\n",
    "        sub = ((subdf['volume']-subdf['volume'].min()) /\n",
    "               (subdf['volume'].max()-subdf['volume'].min())).values\n",
    "        df.loc[(df['Name'] == name), 'volume'] = sub\n",
    "\n",
    "    return df"
   ]
  },
  {
   "cell_type": "code",
   "execution_count": 5,
   "metadata": {
    "ExecuteTime": {
     "end_time": "2020-06-17T15:20:42.649550Z",
     "start_time": "2020-06-17T15:20:42.641001Z"
    },
    "code_folding": [
     0
    ]
   },
   "outputs": [],
   "source": [
    "def gap_transform(df, features):\n",
    "\n",
    "    ultimate = pd.DataFrame(\n",
    "        columns='open high low close volume initopen name'.split())\n",
    "\n",
    "    stocklist = df['Name'].unique()\n",
    "\n",
    "    for name in stocklist:\n",
    "        subdf = df[df['Name'] == name]\n",
    "        initopen = list(subdf['initopen'].values).copy()\n",
    "        subdf = subdf[['open', 'high', 'low', 'close', 'volume']]\n",
    "        test = (subdf.iloc[1:].values-subdf.iloc[:-1].values)\n",
    "        test = pd.DataFrame(\n",
    "            test, columns=['open', 'high', 'low', 'close', 'volume'])\n",
    "        test['initopen'] = initopen[:-1]\n",
    "        test['name'] = name\n",
    "        ultimate = pd.concat([ultimate, test])\n",
    "\n",
    "    return ultimate"
   ]
  },
  {
   "cell_type": "code",
   "execution_count": 6,
   "metadata": {
    "ExecuteTime": {
     "end_time": "2020-06-17T15:20:42.901033Z",
     "start_time": "2020-06-17T15:20:42.897028Z"
    },
    "code_folding": []
   },
   "outputs": [],
   "source": [
    "def gap_transformV2(df, features):\n",
    "\n",
    "    subdf = df[features]\n",
    "    test = (subdf.iloc[1:].values-subdf.iloc[:-1].values)\n",
    "    test = pd.DataFrame(test, columns=features)\n",
    "\n",
    "    return test"
   ]
  },
  {
   "cell_type": "code",
   "execution_count": 7,
   "metadata": {
    "ExecuteTime": {
     "end_time": "2020-06-17T15:20:43.165486Z",
     "start_time": "2020-06-17T15:20:43.159571Z"
    },
    "code_folding": []
   },
   "outputs": [],
   "source": [
    "def column_extracter(df, src_feat, trg_feat):\n",
    "    '''\n",
    "    src_feat : a list containing feature name of the src\n",
    "    trg_feat : a list containing feature name of the trg\n",
    "    output : a dictionary with column name as key and np array as value\n",
    "    '''\n",
    "\n",
    "    src_buffer_dict, trg_buffer_dict, name_buffer_dict = {}, {} ,{}\n",
    "\n",
    "    for _ in src_feat:\n",
    "        \n",
    "\n",
    "        if df[_].dtype == object:\n",
    "\n",
    "            name_buffer_dict[_] = df[_].to_list()\n",
    "\n",
    "        else:\n",
    "\n",
    "            src_buffer_dict[_] = np.array(df[_].to_list(), dtype=np.float32)\n",
    "\n",
    "    for _ in trg_feat:\n",
    "\n",
    "        trg_buffer_dict[_] = np.array(df[_].to_list(), dtype=np.float32)\n",
    "\n",
    "    return src_buffer_dict, trg_buffer_dict, name_buffer_dict"
   ]
  },
  {
   "cell_type": "code",
   "execution_count": 8,
   "metadata": {
    "ExecuteTime": {
     "end_time": "2020-06-17T15:20:43.613946Z",
     "start_time": "2020-06-17T15:20:43.600784Z"
    },
    "code_folding": []
   },
   "outputs": [],
   "source": [
    "def srctrg_splitter(src_len, trg_len, srcdict, trgdict, skipsize, name):\n",
    "    \n",
    "    ### temporally get rid of open price with list index \n",
    "    \n",
    "    src_meta = np.vstack(\n",
    "        tuple(v for k, v in srcdict.items())).astype('float32')\n",
    "    trg_meta = np.vstack(\n",
    "        tuple(v for k, v in trgdict.items())).astype('float32')\n",
    "    \n",
    "    bufferdict = {'src': [], 'trg': [], 'initopen':[], 'name':[]}\n",
    "\n",
    "    i = 0\n",
    "    max_len = src_meta.shape[1]\n",
    "\n",
    "    while i+src_len+trg_len < max_len:\n",
    "#         src_ = src_meta[:-1, i:i+src_len]\n",
    "        realval = np.vstack((src_meta[:-1, i:i+src_len],np.zeros((1,src_len))))\n",
    "        print(realval)\n",
    "        src_ = np.hstack((np.full(\n",
    "            (src_meta.shape[0]-1, 1),-.1, dtype=np.float32),src_meta[:-1, i:i+src_len]))\n",
    "        trg_ = np.hstack((np.full(\n",
    "            (trg_meta.shape[0], 1),-.1, dtype=np.float32), trg_meta[:, i+src_len:i+src_len+trg_len]))\n",
    "#         trg_ =trg_meta[:, i+src_len-1:i+src_len+trg_len]\n",
    "        price_ = src_meta[-1, i:i+1]\n",
    "        bufferdict['src'].append(src_)\n",
    "        bufferdict['trg'].append(trg_)\n",
    "        bufferdict['initopen'].append(price_)\n",
    "        bufferdict['name'].append(str(name))\n",
    "        i += skipsize\n",
    "\n",
    "    output = pd.DataFrame(bufferdict)\n",
    "\n",
    "    return output"
   ]
  },
  {
   "cell_type": "code",
   "execution_count": 9,
   "metadata": {
    "ExecuteTime": {
     "end_time": "2020-06-17T15:20:44.116110Z",
     "start_time": "2020-06-17T15:20:44.111335Z"
    }
   },
   "outputs": [],
   "source": [
    "def srctrg_splitter_padded_trg(src_len, trg_len, srcdict, trgdict, skipsize, name):\n",
    "    \n",
    "    ### temporally get rid of open price with list index \n",
    "    \n",
    "    src_meta = np.vstack(\n",
    "        tuple(v for k, v in srcdict.items())).astype('float32')\n",
    "    trg_meta = np.vstack(\n",
    "        tuple(v for k, v in trgdict.items())).astype('float32')\n",
    "    \n",
    "    bufferdict = {'src': [], 'trg': [], 'initopen':[], 'name':[]}\n",
    "\n",
    "    i = 0\n",
    "    max_len = src_meta.shape[1]\n",
    "\n",
    "    while i+src_len+trg_len < max_len:\n",
    "\n",
    "\n",
    "        src_ = src_meta[:-1, i:i+src_len]\n",
    "        trg_ = trg_meta[:, i+src_len:i+src_len+trg_len]\n",
    "        price_ = src_meta[-1, i:i+1]\n",
    "        bufferdict['src'].append(src_)\n",
    "        bufferdict['trg'].append(trg_)\n",
    "        bufferdict['initopen'].append(price_)\n",
    "        bufferdict['name'].append(str(name))\n",
    "        i += skipsize\n",
    "\n",
    "    output = pd.DataFrame(bufferdict)\n",
    "\n",
    "    return output"
   ]
  },
  {
   "cell_type": "code",
   "execution_count": 10,
   "metadata": {
    "ExecuteTime": {
     "end_time": "2020-06-17T15:20:45.187137Z",
     "start_time": "2020-06-17T15:20:45.175972Z"
    }
   },
   "outputs": [],
   "source": [
    "def srctrg_splitter_withdummy(src_len, trg_len, srcdict, trgdict, skipsize, name):\n",
    "    \n",
    "    ### temporally get rid of open price with list index \n",
    "    \n",
    "    src_meta = np.vstack(\n",
    "        tuple(v for k, v in srcdict.items())).astype('float32')\n",
    "    trg_meta = np.vstack(\n",
    "        tuple(v for k, v in trgdict.items())).astype('float32')\n",
    "    \n",
    "    bufferdict = {'src': [], 'trg': [], 'initopen':[], 'name':[]}\n",
    "\n",
    "    i = 0\n",
    "    max_len = src_meta.shape[1]\n",
    "\n",
    "    while i+src_len+trg_len < max_len:\n",
    "\n",
    "        realval1 = np.vstack((src_meta[:-1, i:i+src_len],np.zeros((1,src_len), dtype=np.float32)))\n",
    "        realval1 = np.hstack(((np.ones((realval1.shape[0],1), dtype=np.float32)),realval1))\n",
    "        realval1[:-1,0]=0\n",
    "        \n",
    "        realval2 = np.vstack((trg_meta[:, i+src_len:i+src_len+trg_len],np.zeros((1,trg_len), dtype=np.float32)))\n",
    "        realval2 = np.hstack((np.ones((realval2.shape[0],1), dtype=np.float32),realval2))\n",
    "        realval2[:-1,0]=0\n",
    "\n",
    "\n",
    "#         src_ = src_meta[:-1, i:i+src_len]\n",
    "#         src_ = np.hstack((np.full(\n",
    "#             (src_meta.shape[0]-1, 1),-.1, dtype=np.float32),src_meta[:-1, i:i+src_len]))\n",
    "#         trg_ = np.hstack((np.full(\n",
    "#             (trg_meta.shape[0], 1),-.1, dtype=np.float32), trg_meta[:, i+src_len:i+src_len+trg_len]))\n",
    "#         trg_ =trg_meta[:, i+src_len-1:i+src_len+trg_len]\n",
    "        price_ = src_meta[-1, i:i+1]\n",
    "        bufferdict['src'].append(realval1)\n",
    "        bufferdict['trg'].append(realval2)\n",
    "        bufferdict['initopen'].append(price_)\n",
    "        bufferdict['name'].append(str(name))\n",
    "        i += skipsize\n",
    "\n",
    "    output = pd.DataFrame(bufferdict)\n",
    "\n",
    "    return output"
   ]
  },
  {
   "cell_type": "markdown",
   "metadata": {},
   "source": [
    "# Process Blocks"
   ]
  },
  {
   "cell_type": "code",
   "execution_count": null,
   "metadata": {
    "ExecuteTime": {
     "end_time": "2020-06-15T09:06:33.033892Z",
     "start_time": "2020-06-15T09:06:33.007348Z"
    }
   },
   "outputs": [],
   "source": [
    "df = pd.read_csv('techcompdata/5yrs/AAPL.csv')\n",
    "# df = df.round(2)\n",
    "# df = gap_transformV2(df,['Open','High','Low','Close','Volume'])\n",
    "# df=(df/df.std())\n",
    "df,dict_ = zero_2_one_normalizerV2(df,['Open','High','Low','Close','Volume'],'INTC')\n",
    "# df=(df/df.std())\n",
    "# df,dict_ = mean0std1normalizer(df,['Open','High','Low','Close','Volume'],'INTC')\n",
    "print(len(df))\n",
    "df.describe()\n"
   ]
  },
  {
   "cell_type": "code",
   "execution_count": null,
   "metadata": {
    "ExecuteTime": {
     "end_time": "2020-06-15T09:06:33.885849Z",
     "start_time": "2020-06-15T09:06:33.405076Z"
    },
    "code_folding": [
     0
    ]
   },
   "outputs": [],
   "source": [
    "for e in ['Open','High','Low','Close','Volume']:\n",
    "    sns.distplot(df[e].values, kde=True, rug=False)\n",
    "    plt.title(e)\n",
    "    plt.show()"
   ]
  },
  {
   "cell_type": "code",
   "execution_count": 14,
   "metadata": {
    "ExecuteTime": {
     "end_time": "2020-06-17T15:27:45.795568Z",
     "start_time": "2020-06-17T15:27:45.568076Z"
    },
    "code_folding": []
   },
   "outputs": [
    {
     "data": {
      "text/html": [
       "<div>\n",
       "<style scoped>\n",
       "    .dataframe tbody tr th:only-of-type {\n",
       "        vertical-align: middle;\n",
       "    }\n",
       "\n",
       "    .dataframe tbody tr th {\n",
       "        vertical-align: top;\n",
       "    }\n",
       "\n",
       "    .dataframe thead th {\n",
       "        text-align: right;\n",
       "    }\n",
       "</style>\n",
       "<table border=\"1\" class=\"dataframe\">\n",
       "  <thead>\n",
       "    <tr style=\"text-align: right;\">\n",
       "      <th></th>\n",
       "      <th>Open</th>\n",
       "      <th>Close</th>\n",
       "      <th>Volume</th>\n",
       "      <th>initopen</th>\n",
       "      <th>name</th>\n",
       "    </tr>\n",
       "  </thead>\n",
       "  <tbody>\n",
       "    <tr>\n",
       "      <th>0</th>\n",
       "      <td>0.139524</td>\n",
       "      <td>0.129577</td>\n",
       "      <td>0.156270</td>\n",
       "      <td>31.120001</td>\n",
       "      <td>INTC</td>\n",
       "    </tr>\n",
       "    <tr>\n",
       "      <th>1</th>\n",
       "      <td>0.142823</td>\n",
       "      <td>0.135446</td>\n",
       "      <td>0.129861</td>\n",
       "      <td>31.260000</td>\n",
       "      <td>INTC</td>\n",
       "    </tr>\n",
       "    <tr>\n",
       "      <th>2</th>\n",
       "      <td>0.154372</td>\n",
       "      <td>0.142723</td>\n",
       "      <td>0.201658</td>\n",
       "      <td>31.750000</td>\n",
       "      <td>INTC</td>\n",
       "    </tr>\n",
       "    <tr>\n",
       "      <th>3</th>\n",
       "      <td>0.162149</td>\n",
       "      <td>0.152817</td>\n",
       "      <td>0.197392</td>\n",
       "      <td>32.080002</td>\n",
       "      <td>INTC</td>\n",
       "    </tr>\n",
       "    <tr>\n",
       "      <th>4</th>\n",
       "      <td>0.169691</td>\n",
       "      <td>0.145540</td>\n",
       "      <td>0.299449</td>\n",
       "      <td>32.400002</td>\n",
       "      <td>INTC</td>\n",
       "    </tr>\n",
       "    <tr>\n",
       "      <th>...</th>\n",
       "      <td>...</td>\n",
       "      <td>...</td>\n",
       "      <td>...</td>\n",
       "      <td>...</td>\n",
       "      <td>...</td>\n",
       "    </tr>\n",
       "    <tr>\n",
       "      <th>935</th>\n",
       "      <td>0.965231</td>\n",
       "      <td>0.989949</td>\n",
       "      <td>0.100628</td>\n",
       "      <td>365.000000</td>\n",
       "      <td>TTD</td>\n",
       "    </tr>\n",
       "    <tr>\n",
       "      <th>936</th>\n",
       "      <td>0.929476</td>\n",
       "      <td>0.929874</td>\n",
       "      <td>0.142118</td>\n",
       "      <td>352.299988</td>\n",
       "      <td>TTD</td>\n",
       "    </tr>\n",
       "    <tr>\n",
       "      <th>937</th>\n",
       "      <td>0.953970</td>\n",
       "      <td>0.949833</td>\n",
       "      <td>0.097391</td>\n",
       "      <td>361.000000</td>\n",
       "      <td>TTD</td>\n",
       "    </tr>\n",
       "    <tr>\n",
       "      <th>938</th>\n",
       "      <td>0.910473</td>\n",
       "      <td>0.995905</td>\n",
       "      <td>0.165513</td>\n",
       "      <td>345.549988</td>\n",
       "      <td>TTD</td>\n",
       "    </tr>\n",
       "    <tr>\n",
       "      <th>939</th>\n",
       "      <td>1.000000</td>\n",
       "      <td>1.000000</td>\n",
       "      <td>0.133779</td>\n",
       "      <td>377.350006</td>\n",
       "      <td>TTD</td>\n",
       "    </tr>\n",
       "  </tbody>\n",
       "</table>\n",
       "<p>21070 rows × 5 columns</p>\n",
       "</div>"
      ],
      "text/plain": [
       "         Open     Close    Volume    initopen  name\n",
       "0    0.139524  0.129577  0.156270   31.120001  INTC\n",
       "1    0.142823  0.135446  0.129861   31.260000  INTC\n",
       "2    0.154372  0.142723  0.201658   31.750000  INTC\n",
       "3    0.162149  0.152817  0.197392   32.080002  INTC\n",
       "4    0.169691  0.145540  0.299449   32.400002  INTC\n",
       "..        ...       ...       ...         ...   ...\n",
       "935  0.965231  0.989949  0.100628  365.000000   TTD\n",
       "936  0.929476  0.929874  0.142118  352.299988   TTD\n",
       "937  0.953970  0.949833  0.097391  361.000000   TTD\n",
       "938  0.910473  0.995905  0.165513  345.549988   TTD\n",
       "939  1.000000  1.000000  0.133779  377.350006   TTD\n",
       "\n",
       "[21070 rows x 5 columns]"
      ]
     },
     "execution_count": 14,
     "metadata": {},
     "output_type": "execute_result"
    }
   ],
   "source": [
    "import glob\n",
    "l = glob.glob('./techcompdata/5yrs/raw_data/*')\n",
    "output=pd.DataFrame(columns=['Open','Close','Volume'])\n",
    "\n",
    "for e in l:\n",
    "    df = pd.read_csv(e)\n",
    "    newname = e.lstrip(r'./techcompdata/5yrs/raw_data/')\n",
    "    df2, _ = zero_2_one_normalizerV2(\n",
    "        df, ['Open','Close','Volume'],newname)\n",
    "#     df2 = gap_transformV2(df2,['Open','Close','Volume'])\n",
    "    # df2=(df2-df2.mean())/df2.std()\n",
    "    \n",
    "#     df2, _ = zero_2_one_normalizerV2(\n",
    "#         df, ['Open','Close','Volume'],newname)\n",
    "    # df2=df2*2-1\n",
    "    initopen = df['Open'].values\n",
    "    df2['initopen'] = initopen\n",
    "    df2['name'] = newname.rstrip(r'.csv')\n",
    "    output=pd.concat([df2,output])\n",
    "    # df2[(df2['Open']==0.0) | (df2['Volume']==0.0) | (df2['Close']==0.0)]\n",
    "    df2.to_csv('./techcompdata/5yrs/0to1standardized/'+newname,index=False)\n",
    "output\n",
    "\n"
   ]
  },
  {
   "cell_type": "code",
   "execution_count": 15,
   "metadata": {
    "ExecuteTime": {
     "end_time": "2020-06-17T15:27:54.695244Z",
     "start_time": "2020-06-17T15:27:54.641161Z"
    }
   },
   "outputs": [
    {
     "data": {
      "text/html": [
       "<div>\n",
       "<style scoped>\n",
       "    .dataframe tbody tr th:only-of-type {\n",
       "        vertical-align: middle;\n",
       "    }\n",
       "\n",
       "    .dataframe tbody tr th {\n",
       "        vertical-align: top;\n",
       "    }\n",
       "\n",
       "    .dataframe thead th {\n",
       "        text-align: right;\n",
       "    }\n",
       "</style>\n",
       "<table border=\"1\" class=\"dataframe\">\n",
       "  <thead>\n",
       "    <tr style=\"text-align: right;\">\n",
       "      <th></th>\n",
       "      <th>Open</th>\n",
       "      <th>Close</th>\n",
       "      <th>Volume</th>\n",
       "      <th>initopen</th>\n",
       "    </tr>\n",
       "  </thead>\n",
       "  <tbody>\n",
       "    <tr>\n",
       "      <th>count</th>\n",
       "      <td>21070.000000</td>\n",
       "      <td>21070.000000</td>\n",
       "      <td>21070.000000</td>\n",
       "      <td>21070.000000</td>\n",
       "    </tr>\n",
       "    <tr>\n",
       "      <th>mean</th>\n",
       "      <td>0.391862</td>\n",
       "      <td>0.388478</td>\n",
       "      <td>0.134024</td>\n",
       "      <td>246.614082</td>\n",
       "    </tr>\n",
       "    <tr>\n",
       "      <th>std</th>\n",
       "      <td>0.257564</td>\n",
       "      <td>0.257579</td>\n",
       "      <td>0.101814</td>\n",
       "      <td>371.072975</td>\n",
       "    </tr>\n",
       "    <tr>\n",
       "      <th>min</th>\n",
       "      <td>0.000000</td>\n",
       "      <td>0.000000</td>\n",
       "      <td>0.000000</td>\n",
       "      <td>1.620000</td>\n",
       "    </tr>\n",
       "    <tr>\n",
       "      <th>25%</th>\n",
       "      <td>0.160683</td>\n",
       "      <td>0.156844</td>\n",
       "      <td>0.069374</td>\n",
       "      <td>59.345000</td>\n",
       "    </tr>\n",
       "    <tr>\n",
       "      <th>50%</th>\n",
       "      <td>0.363898</td>\n",
       "      <td>0.358703</td>\n",
       "      <td>0.107829</td>\n",
       "      <td>124.260002</td>\n",
       "    </tr>\n",
       "    <tr>\n",
       "      <th>75%</th>\n",
       "      <td>0.613961</td>\n",
       "      <td>0.610298</td>\n",
       "      <td>0.166087</td>\n",
       "      <td>207.550003</td>\n",
       "    </tr>\n",
       "    <tr>\n",
       "      <th>max</th>\n",
       "      <td>1.000000</td>\n",
       "      <td>1.000000</td>\n",
       "      <td>1.000000</td>\n",
       "      <td>2645.000000</td>\n",
       "    </tr>\n",
       "  </tbody>\n",
       "</table>\n",
       "</div>"
      ],
      "text/plain": [
       "               Open         Close        Volume      initopen\n",
       "count  21070.000000  21070.000000  21070.000000  21070.000000\n",
       "mean       0.391862      0.388478      0.134024    246.614082\n",
       "std        0.257564      0.257579      0.101814    371.072975\n",
       "min        0.000000      0.000000      0.000000      1.620000\n",
       "25%        0.160683      0.156844      0.069374     59.345000\n",
       "50%        0.363898      0.358703      0.107829    124.260002\n",
       "75%        0.613961      0.610298      0.166087    207.550003\n",
       "max        1.000000      1.000000      1.000000   2645.000000"
      ]
     },
     "execution_count": 15,
     "metadata": {},
     "output_type": "execute_result"
    }
   ],
   "source": [
    "import glob\n",
    "l = glob.glob('./techcompdata/5yrs/0to1standardized/*')\n",
    "output=pd.DataFrame(columns='Open Close Volume\tinitopen'.split())\n",
    "for e in l:\n",
    "    df1=pd.read_csv(e)\n",
    "    output=pd.concat([df1,output])\n",
    "# output = (output-output.mean())/output.std()\n",
    "\n",
    "# output = output[['Open','Close', 'Volume']]\n",
    "# output = output/output.std()\n",
    "# output=output.round(3)\n",
    "output.describe()"
   ]
  },
  {
   "cell_type": "code",
   "execution_count": 16,
   "metadata": {
    "ExecuteTime": {
     "end_time": "2020-06-17T15:27:58.593329Z",
     "start_time": "2020-06-17T15:27:58.581908Z"
    }
   },
   "outputs": [
    {
     "data": {
      "text/html": [
       "<div>\n",
       "<style scoped>\n",
       "    .dataframe tbody tr th:only-of-type {\n",
       "        vertical-align: middle;\n",
       "    }\n",
       "\n",
       "    .dataframe tbody tr th {\n",
       "        vertical-align: top;\n",
       "    }\n",
       "\n",
       "    .dataframe thead th {\n",
       "        text-align: right;\n",
       "    }\n",
       "</style>\n",
       "<table border=\"1\" class=\"dataframe\">\n",
       "  <thead>\n",
       "    <tr style=\"text-align: right;\">\n",
       "      <th></th>\n",
       "      <th>Open</th>\n",
       "      <th>Close</th>\n",
       "      <th>Volume</th>\n",
       "      <th>initopen</th>\n",
       "      <th>name</th>\n",
       "    </tr>\n",
       "  </thead>\n",
       "  <tbody>\n",
       "    <tr>\n",
       "      <th>0</th>\n",
       "      <td>0.139524</td>\n",
       "      <td>0.129577</td>\n",
       "      <td>0.156270</td>\n",
       "      <td>31.120001</td>\n",
       "      <td>INTC</td>\n",
       "    </tr>\n",
       "    <tr>\n",
       "      <th>1</th>\n",
       "      <td>0.142823</td>\n",
       "      <td>0.135446</td>\n",
       "      <td>0.129861</td>\n",
       "      <td>31.260000</td>\n",
       "      <td>INTC</td>\n",
       "    </tr>\n",
       "    <tr>\n",
       "      <th>2</th>\n",
       "      <td>0.154372</td>\n",
       "      <td>0.142723</td>\n",
       "      <td>0.201658</td>\n",
       "      <td>31.750000</td>\n",
       "      <td>INTC</td>\n",
       "    </tr>\n",
       "    <tr>\n",
       "      <th>3</th>\n",
       "      <td>0.162149</td>\n",
       "      <td>0.152817</td>\n",
       "      <td>0.197392</td>\n",
       "      <td>32.080002</td>\n",
       "      <td>INTC</td>\n",
       "    </tr>\n",
       "    <tr>\n",
       "      <th>4</th>\n",
       "      <td>0.169691</td>\n",
       "      <td>0.145540</td>\n",
       "      <td>0.299449</td>\n",
       "      <td>32.400002</td>\n",
       "      <td>INTC</td>\n",
       "    </tr>\n",
       "    <tr>\n",
       "      <th>...</th>\n",
       "      <td>...</td>\n",
       "      <td>...</td>\n",
       "      <td>...</td>\n",
       "      <td>...</td>\n",
       "      <td>...</td>\n",
       "    </tr>\n",
       "    <tr>\n",
       "      <th>935</th>\n",
       "      <td>0.965231</td>\n",
       "      <td>0.989949</td>\n",
       "      <td>0.100628</td>\n",
       "      <td>365.000000</td>\n",
       "      <td>TTD</td>\n",
       "    </tr>\n",
       "    <tr>\n",
       "      <th>936</th>\n",
       "      <td>0.929476</td>\n",
       "      <td>0.929874</td>\n",
       "      <td>0.142118</td>\n",
       "      <td>352.299988</td>\n",
       "      <td>TTD</td>\n",
       "    </tr>\n",
       "    <tr>\n",
       "      <th>937</th>\n",
       "      <td>0.953970</td>\n",
       "      <td>0.949833</td>\n",
       "      <td>0.097391</td>\n",
       "      <td>361.000000</td>\n",
       "      <td>TTD</td>\n",
       "    </tr>\n",
       "    <tr>\n",
       "      <th>938</th>\n",
       "      <td>0.910473</td>\n",
       "      <td>0.995905</td>\n",
       "      <td>0.165513</td>\n",
       "      <td>345.549988</td>\n",
       "      <td>TTD</td>\n",
       "    </tr>\n",
       "    <tr>\n",
       "      <th>939</th>\n",
       "      <td>1.000000</td>\n",
       "      <td>1.000000</td>\n",
       "      <td>0.133779</td>\n",
       "      <td>377.350006</td>\n",
       "      <td>TTD</td>\n",
       "    </tr>\n",
       "  </tbody>\n",
       "</table>\n",
       "<p>21070 rows × 5 columns</p>\n",
       "</div>"
      ],
      "text/plain": [
       "         Open     Close    Volume    initopen  name\n",
       "0    0.139524  0.129577  0.156270   31.120001  INTC\n",
       "1    0.142823  0.135446  0.129861   31.260000  INTC\n",
       "2    0.154372  0.142723  0.201658   31.750000  INTC\n",
       "3    0.162149  0.152817  0.197392   32.080002  INTC\n",
       "4    0.169691  0.145540  0.299449   32.400002  INTC\n",
       "..        ...       ...       ...         ...   ...\n",
       "935  0.965231  0.989949  0.100628  365.000000   TTD\n",
       "936  0.929476  0.929874  0.142118  352.299988   TTD\n",
       "937  0.953970  0.949833  0.097391  361.000000   TTD\n",
       "938  0.910473  0.995905  0.165513  345.549988   TTD\n",
       "939  1.000000  1.000000  0.133779  377.350006   TTD\n",
       "\n",
       "[21070 rows x 5 columns]"
      ]
     },
     "execution_count": 16,
     "metadata": {},
     "output_type": "execute_result"
    }
   ],
   "source": [
    "output"
   ]
  },
  {
   "cell_type": "code",
   "execution_count": 17,
   "metadata": {
    "ExecuteTime": {
     "end_time": "2020-06-17T15:28:01.527601Z",
     "start_time": "2020-06-17T15:28:00.717469Z"
    },
    "code_folding": [
     0
    ]
   },
   "outputs": [
    {
     "data": {
      "image/png": "[encoded data removed]",
      "text/plain": [
       "<Figure size 432x288 with 1 Axes>"
      ]
     },
     "metadata": {
      "needs_background": "light"
     },
     "output_type": "display_data"
    },
    {
     "data": {
      "image/png": "[encoded data removed]",
      "text/plain": [
       "<Figure size 432x288 with 1 Axes>"
      ]
     },
     "metadata": {
      "needs_background": "light"
     },
     "output_type": "display_data"
    },
    {
     "data": {
      "image/png": "[encoded data removed]",
      "text/plain": [
       "<Figure size 432x288 with 1 Axes>"
      ]
     },
     "metadata": {
      "needs_background": "light"
     },
     "output_type": "display_data"
    }
   ],
   "source": [
    "for e in ['Open','Close','Volume']:\n",
    "    sns.distplot(output[e].values, kde=True, rug=False,bins=200)\n",
    "    plt.title(e)\n",
    "    plt.show()"
   ]
  },
  {
   "cell_type": "code",
   "execution_count": 31,
   "metadata": {
    "ExecuteTime": {
     "end_time": "2020-06-17T15:39:39.634274Z",
     "start_time": "2020-06-17T15:39:39.523379Z"
    }
   },
   "outputs": [],
   "source": [
    "final = pd.DataFrame(columns='src trg initopen name'.split())\n",
    "for name in output['name'].unique():   \n",
    "    srcdict, trgdict, namedict = column_extracter(output[output['name']==name],\n",
    "                                                  ['Open','Close', 'Volume', 'initopen','name'],\n",
    "                                                  ['Open','Close', 'Volume'])\n",
    "    test = srctrg_splitter_padded_trg(90, 30, srcdict, trgdict, 1, name)\n",
    "    final = pd.concat([final,test])\n",
    "    final = shuffle(final)"
   ]
  },
  {
   "cell_type": "code",
   "execution_count": 32,
   "metadata": {
    "ExecuteTime": {
     "end_time": "2020-06-17T15:39:40.015260Z",
     "start_time": "2020-06-17T15:39:39.953592Z"
    }
   },
   "outputs": [
    {
     "data": {
      "text/html": [
       "<div>\n",
       "<style scoped>\n",
       "    .dataframe tbody tr th:only-of-type {\n",
       "        vertical-align: middle;\n",
       "    }\n",
       "\n",
       "    .dataframe tbody tr th {\n",
       "        vertical-align: top;\n",
       "    }\n",
       "\n",
       "    .dataframe thead th {\n",
       "        text-align: right;\n",
       "    }\n",
       "</style>\n",
       "<table border=\"1\" class=\"dataframe\">\n",
       "  <thead>\n",
       "    <tr style=\"text-align: right;\">\n",
       "      <th></th>\n",
       "      <th>src</th>\n",
       "      <th>trg</th>\n",
       "      <th>initopen</th>\n",
       "      <th>name</th>\n",
       "    </tr>\n",
       "  </thead>\n",
       "  <tbody>\n",
       "    <tr>\n",
       "      <th>273</th>\n",
       "      <td>[[0.028498704, 0.034398973, 0.033550564, 0.036...</td>\n",
       "      <td>[[0.07604798, 0.07759054, 0.08464771, 0.082372...</td>\n",
       "      <td>[97.39]</td>\n",
       "      <td>AAPL</td>\n",
       "    </tr>\n",
       "    <tr>\n",
       "      <th>72</th>\n",
       "      <td>[[0.11026423, 0.110193044, 0.110762894, 0.1287...</td>\n",
       "      <td>[[0.023221012, 0.0, 0.034831535, 0.025500378, ...</td>\n",
       "      <td>[69.09]</td>\n",
       "      <td>CRM</td>\n",
       "    </tr>\n",
       "    <tr>\n",
       "      <th>426</th>\n",
       "      <td>[[0.34508634, 0.35905567, 0.34850243, 0.355212...</td>\n",
       "      <td>[[0.45671928, 0.4556213, 0.43902883, 0.4392118...</td>\n",
       "      <td>[133.6]</td>\n",
       "      <td>FB</td>\n",
       "    </tr>\n",
       "    <tr>\n",
       "      <th>944</th>\n",
       "      <td>[[0.3780359, 0.38155577, 0.38683563, 0.437698,...</td>\n",
       "      <td>[[0.56353396, 0.5707497, 0.5739176, 0.5723337,...</td>\n",
       "      <td>[23.1]</td>\n",
       "      <td>AMD</td>\n",
       "    </tr>\n",
       "    <tr>\n",
       "      <th>780</th>\n",
       "      <td>[[0.18345542, 0.18642256, 0.17759018, 0.186917...</td>\n",
       "      <td>[[0.23422998, 0.23539153, 0.22944577, 0.250342...</td>\n",
       "      <td>[301.84]</td>\n",
       "      <td>TSLA</td>\n",
       "    </tr>\n",
       "    <tr>\n",
       "      <th>...</th>\n",
       "      <td>...</td>\n",
       "      <td>...</td>\n",
       "      <td>...</td>\n",
       "      <td>...</td>\n",
       "    </tr>\n",
       "    <tr>\n",
       "      <th>231</th>\n",
       "      <td>[[0.1304197, 0.12393632, 0.12358902, 0.1216787...</td>\n",
       "      <td>[[0.29493487, 0.2849204, 0.2849204, 0.29603475...</td>\n",
       "      <td>[79.83]</td>\n",
       "      <td>BABA</td>\n",
       "    </tr>\n",
       "    <tr>\n",
       "      <th>268</th>\n",
       "      <td>[[0.037813094, 0.041292015, 0.041800477, 0.038...</td>\n",
       "      <td>[[0.091870055, 0.09146864, 0.09093343, 0.08667...</td>\n",
       "      <td>[94.7]</td>\n",
       "      <td>NFLX</td>\n",
       "    </tr>\n",
       "    <tr>\n",
       "      <th>48</th>\n",
       "      <td>[[0.00791458, 0.0029355898, 0.006820932, 0.004...</td>\n",
       "      <td>[[0.041443627, 0.04055143, 0.037529502, 0.0395...</td>\n",
       "      <td>[22.0]</td>\n",
       "      <td>NVDA</td>\n",
       "    </tr>\n",
       "    <tr>\n",
       "      <th>1085</th>\n",
       "      <td>[[0.47888067, 0.48011264, 0.47395283, 0.478352...</td>\n",
       "      <td>[[0.91182685, 0.94280183, 0.938402, 0.99208033...</td>\n",
       "      <td>[28.83]</td>\n",
       "      <td>AMD</td>\n",
       "    </tr>\n",
       "    <tr>\n",
       "      <th>265</th>\n",
       "      <td>[[0.6542334, 0.6474829, 0.6550344, 0.66533184,...</td>\n",
       "      <td>[[0.6860412, 0.6677346, 0.72151035, 0.74794054...</td>\n",
       "      <td>[151.78]</td>\n",
       "      <td>IBM</td>\n",
       "    </tr>\n",
       "  </tbody>\n",
       "</table>\n",
       "<p>19030 rows × 4 columns</p>\n",
       "</div>"
      ],
      "text/plain": [
       "                                                    src  \\\n",
       "273   [[0.028498704, 0.034398973, 0.033550564, 0.036...   \n",
       "72    [[0.11026423, 0.110193044, 0.110762894, 0.1287...   \n",
       "426   [[0.34508634, 0.35905567, 0.34850243, 0.355212...   \n",
       "944   [[0.3780359, 0.38155577, 0.38683563, 0.437698,...   \n",
       "780   [[0.18345542, 0.18642256, 0.17759018, 0.186917...   \n",
       "...                                                 ...   \n",
       "231   [[0.1304197, 0.12393632, 0.12358902, 0.1216787...   \n",
       "268   [[0.037813094, 0.041292015, 0.041800477, 0.038...   \n",
       "48    [[0.00791458, 0.0029355898, 0.006820932, 0.004...   \n",
       "1085  [[0.47888067, 0.48011264, 0.47395283, 0.478352...   \n",
       "265   [[0.6542334, 0.6474829, 0.6550344, 0.66533184,...   \n",
       "\n",
       "                                                    trg  initopen  name  \n",
       "273   [[0.07604798, 0.07759054, 0.08464771, 0.082372...   [97.39]  AAPL  \n",
       "72    [[0.023221012, 0.0, 0.034831535, 0.025500378, ...   [69.09]   CRM  \n",
       "426   [[0.45671928, 0.4556213, 0.43902883, 0.4392118...   [133.6]    FB  \n",
       "944   [[0.56353396, 0.5707497, 0.5739176, 0.5723337,...    [23.1]   AMD  \n",
       "780   [[0.23422998, 0.23539153, 0.22944577, 0.250342...  [301.84]  TSLA  \n",
       "...                                                 ...       ...   ...  \n",
       "231   [[0.29493487, 0.2849204, 0.2849204, 0.29603475...   [79.83]  BABA  \n",
       "268   [[0.091870055, 0.09146864, 0.09093343, 0.08667...    [94.7]  NFLX  \n",
       "48    [[0.041443627, 0.04055143, 0.037529502, 0.0395...    [22.0]  NVDA  \n",
       "1085  [[0.91182685, 0.94280183, 0.938402, 0.99208033...   [28.83]   AMD  \n",
       "265   [[0.6860412, 0.6677346, 0.72151035, 0.74794054...  [151.78]   IBM  \n",
       "\n",
       "[19030 rows x 4 columns]"
      ]
     },
     "execution_count": 32,
     "metadata": {},
     "output_type": "execute_result"
    }
   ],
   "source": [
    "final"
   ]
  },
  {
   "cell_type": "code",
   "execution_count": 20,
   "metadata": {
    "ExecuteTime": {
     "end_time": "2020-06-17T15:28:32.894880Z",
     "start_time": "2020-06-17T15:28:32.584591Z"
    }
   },
   "outputs": [],
   "source": [
    "final.to_pickle('techcompdata/5yrs/srctrg_set90_30VOC_trgpad2.pkl')"
   ]
  },
  {
   "cell_type": "code",
   "execution_count": 33,
   "metadata": {
    "ExecuteTime": {
     "end_time": "2020-06-17T15:39:46.189706Z",
     "start_time": "2020-06-17T15:39:46.043876Z"
    }
   },
   "outputs": [
    {
     "data": {
      "text/html": [
       "<div>\n",
       "<style scoped>\n",
       "    .dataframe tbody tr th:only-of-type {\n",
       "        vertical-align: middle;\n",
       "    }\n",
       "\n",
       "    .dataframe tbody tr th {\n",
       "        vertical-align: top;\n",
       "    }\n",
       "\n",
       "    .dataframe thead th {\n",
       "        text-align: right;\n",
       "    }\n",
       "</style>\n",
       "<table border=\"1\" class=\"dataframe\">\n",
       "  <thead>\n",
       "    <tr style=\"text-align: right;\">\n",
       "      <th></th>\n",
       "      <th>src</th>\n",
       "      <th>trg</th>\n",
       "      <th>initopen</th>\n",
       "      <th>name</th>\n",
       "    </tr>\n",
       "  </thead>\n",
       "  <tbody>\n",
       "    <tr>\n",
       "      <th>1026</th>\n",
       "      <td>[[0.5609239, 0.58449215, 0.582371, 0.572708, 0...</td>\n",
       "      <td>[[0.76596755, 0.78435075, 0.7791657, 0.7610182...</td>\n",
       "      <td>[49.0]</td>\n",
       "      <td>INTC</td>\n",
       "    </tr>\n",
       "    <tr>\n",
       "      <th>643</th>\n",
       "      <td>[[0.6139815, 0.6396023, 0.6580247, 0.6622338, ...</td>\n",
       "      <td>[[0.6577198, 0.67516625, 0.6579028, 0.6507045,...</td>\n",
       "      <td>[177.68]</td>\n",
       "      <td>FB</td>\n",
       "    </tr>\n",
       "    <tr>\n",
       "      <th>76</th>\n",
       "      <td>[[0.5802059, 0.5314646, 0.5860413, 0.62311214,...</td>\n",
       "      <td>[[0.3478261, 0.27665904, 0.28215107, 0.3115561...</td>\n",
       "      <td>[145.31]</td>\n",
       "      <td>IBM</td>\n",
       "    </tr>\n",
       "    <tr>\n",
       "      <th>396</th>\n",
       "      <td>[[0.16833645, 0.16770604, 0.16638224, 0.169376...</td>\n",
       "      <td>[[0.23443726, 0.2425603, 0.24308261, 0.2480446...</td>\n",
       "      <td>[798.0]</td>\n",
       "      <td>AMZN</td>\n",
       "    </tr>\n",
       "    <tr>\n",
       "      <th>1063</th>\n",
       "      <td>[[0.4609697, 0.47132146, 0.46540612, 0.4820957...</td>\n",
       "      <td>[[0.5851907, 0.5874089, 0.61244327, 0.6143446,...</td>\n",
       "      <td>[98.03]</td>\n",
       "      <td>EA</td>\n",
       "    </tr>\n",
       "    <tr>\n",
       "      <th>...</th>\n",
       "      <td>...</td>\n",
       "      <td>...</td>\n",
       "      <td>...</td>\n",
       "      <td>...</td>\n",
       "    </tr>\n",
       "    <tr>\n",
       "      <th>745</th>\n",
       "      <td>[[0.16507767, 0.17483008, 0.17869425, 0.181914...</td>\n",
       "      <td>[[0.12987475, 0.14063917, 0.13249686, 0.136487...</td>\n",
       "      <td>[285.86]</td>\n",
       "      <td>TSLA</td>\n",
       "    </tr>\n",
       "    <tr>\n",
       "      <th>426</th>\n",
       "      <td>[[0.17905207, 0.18271568, 0.17704679, 0.181790...</td>\n",
       "      <td>[[0.20998032, 0.2116386, 0.20704949, 0.2044657...</td>\n",
       "      <td>[136.43]</td>\n",
       "      <td>AAPL</td>\n",
       "    </tr>\n",
       "    <tr>\n",
       "      <th>34</th>\n",
       "      <td>[[0.0054558255, 0.009855685, 0.008623724, 0.00...</td>\n",
       "      <td>[[0.013199578, 0.013023583, 0.013903555, 0.013...</td>\n",
       "      <td>[1.93]</td>\n",
       "      <td>AMD</td>\n",
       "    </tr>\n",
       "    <tr>\n",
       "      <th>265</th>\n",
       "      <td>[[0.07783515, 0.0814003, 0.086805515, 0.089289...</td>\n",
       "      <td>[[0.056041766, 0.04820995, 0.052534122, 0.0465...</td>\n",
       "      <td>[210.0]</td>\n",
       "      <td>TSLA</td>\n",
       "    </tr>\n",
       "    <tr>\n",
       "      <th>338</th>\n",
       "      <td>[[0.13497958, 0.13449031, 0.13604443, 0.135008...</td>\n",
       "      <td>[[0.22396824, 0.23873252, 0.2462154, 0.2433085...</td>\n",
       "      <td>[66.15]</td>\n",
       "      <td>NVDA</td>\n",
       "    </tr>\n",
       "  </tbody>\n",
       "</table>\n",
       "<p>19030 rows × 4 columns</p>\n",
       "</div>"
      ],
      "text/plain": [
       "                                                    src  \\\n",
       "1026  [[0.5609239, 0.58449215, 0.582371, 0.572708, 0...   \n",
       "643   [[0.6139815, 0.6396023, 0.6580247, 0.6622338, ...   \n",
       "76    [[0.5802059, 0.5314646, 0.5860413, 0.62311214,...   \n",
       "396   [[0.16833645, 0.16770604, 0.16638224, 0.169376...   \n",
       "1063  [[0.4609697, 0.47132146, 0.46540612, 0.4820957...   \n",
       "...                                                 ...   \n",
       "745   [[0.16507767, 0.17483008, 0.17869425, 0.181914...   \n",
       "426   [[0.17905207, 0.18271568, 0.17704679, 0.181790...   \n",
       "34    [[0.0054558255, 0.009855685, 0.008623724, 0.00...   \n",
       "265   [[0.07783515, 0.0814003, 0.086805515, 0.089289...   \n",
       "338   [[0.13497958, 0.13449031, 0.13604443, 0.135008...   \n",
       "\n",
       "                                                    trg  initopen  name  \n",
       "1026  [[0.76596755, 0.78435075, 0.7791657, 0.7610182...    [49.0]  INTC  \n",
       "643   [[0.6577198, 0.67516625, 0.6579028, 0.6507045,...  [177.68]    FB  \n",
       "76    [[0.3478261, 0.27665904, 0.28215107, 0.3115561...  [145.31]   IBM  \n",
       "396   [[0.23443726, 0.2425603, 0.24308261, 0.2480446...   [798.0]  AMZN  \n",
       "1063  [[0.5851907, 0.5874089, 0.61244327, 0.6143446,...   [98.03]    EA  \n",
       "...                                                 ...       ...   ...  \n",
       "745   [[0.12987475, 0.14063917, 0.13249686, 0.136487...  [285.86]  TSLA  \n",
       "426   [[0.20998032, 0.2116386, 0.20704949, 0.2044657...  [136.43]  AAPL  \n",
       "34    [[0.013199578, 0.013023583, 0.013903555, 0.013...    [1.93]   AMD  \n",
       "265   [[0.056041766, 0.04820995, 0.052534122, 0.0465...   [210.0]  TSLA  \n",
       "338   [[0.22396824, 0.23873252, 0.2462154, 0.2433085...   [66.15]  NVDA  \n",
       "\n",
       "[19030 rows x 4 columns]"
      ]
     },
     "execution_count": 33,
     "metadata": {},
     "output_type": "execute_result"
    }
   ],
   "source": [
    "df=pd.read_pickle('techcompdata/5yrs/srctrg_set90_30VOC_trgpad2.pkl')\n",
    "# df=shuffle(df)\n",
    "df"
   ]
  },
  {
   "cell_type": "code",
   "execution_count": null,
   "metadata": {
    "ExecuteTime": {
     "end_time": "2020-06-15T11:38:07.460487Z",
     "start_time": "2020-06-15T11:38:07.443636Z"
    }
   },
   "outputs": [],
   "source": [
    "df = pd.read_csv('techcompdata/IBM.csv')\n",
    "df = gap_transformV2(df,['Open','High','Low','Close','Volume'])\n",
    "stdrecord.loc['IBM']=df.std().values"
   ]
  },
  {
   "cell_type": "code",
   "execution_count": null,
   "metadata": {
    "ExecuteTime": {
     "end_time": "2020-06-13T16:29:56.905341Z",
     "start_time": "2020-06-13T16:29:56.896499Z"
    }
   },
   "outputs": [],
   "source": [
    "stdrecord=pd.DataFrame(columns=['Open','High','Low','Close','Volume'],\n",
    "                      index='IBM AMD INTC'.split())"
   ]
  },
  {
   "cell_type": "code",
   "execution_count": null,
   "metadata": {
    "ExecuteTime": {
     "end_time": "2020-06-13T16:49:53.285124Z",
     "start_time": "2020-06-13T16:49:53.278644Z"
    }
   },
   "outputs": [],
   "source": [
    "stdrecord.to_csv('techcompdata/stdrecord.csv',)"
   ]
  },
  {
   "cell_type": "code",
   "execution_count": null,
   "metadata": {
    "ExecuteTime": {
     "end_time": "2020-06-13T16:49:54.152555Z",
     "start_time": "2020-06-13T16:49:54.140971Z"
    }
   },
   "outputs": [],
   "source": [
    "pd.read_csv('techcompdata/stdrecord.csv')"
   ]
  },
  {
   "cell_type": "code",
   "execution_count": null,
   "metadata": {
    "ExecuteTime": {
     "end_time": "2020-06-13T16:50:01.845798Z",
     "start_time": "2020-06-13T16:50:01.837488Z"
    }
   },
   "outputs": [],
   "source": [
    "stdrecord"
   ]
  },
  {
   "cell_type": "code",
   "execution_count": null,
   "metadata": {},
   "outputs": [],
   "source": []
  }
 ],
 "metadata": {
  "kernelspec": {
   "display_name": "Python 3",
   "language": "python",
   "name": "python3"
  },
  "language_info": {
   "codemirror_mode": {
    "name": "ipython",
    "version": 3
   },
   "file_extension": ".py",
   "mimetype": "text/x-python",
   "name": "python",
   "nbconvert_exporter": "python",
   "pygments_lexer": "ipython3",
   "version": "3.7.6"
  },
  "toc": {
   "base_numbering": 1,
   "nav_menu": {},
   "number_sections": true,
   "sideBar": true,
   "skip_h1_title": false,
   "title_cell": "Table of Contents",
   "title_sidebar": "Contents",
   "toc_cell": false,
   "toc_position": {},
   "toc_section_display": true,
   "toc_window_display": false
  },
  "varInspector": {
   "cols": {
    "lenName": 16,
    "lenType": 16,
    "lenVar": 40
   },
   "kernels_config": {
    "python": {
     "delete_cmd_postfix": "",
     "delete_cmd_prefix": "del ",
     "library": "var_list.py",
     "varRefreshCmd": "print(var_dic_list())"
    },
    "r": {
     "delete_cmd_postfix": ") ",
     "delete_cmd_prefix": "rm(",
     "library": "var_list.r",
     "varRefreshCmd": "cat(var_dic_list()) "
    }
   },
   "types_to_exclude": [
    "module",
    "function",
    "builtin_function_or_method",
    "instance",
    "_Feature"
   ],
   "window_display": false
  }
 },
 "nbformat": 4,
 "nbformat_minor": 4
}

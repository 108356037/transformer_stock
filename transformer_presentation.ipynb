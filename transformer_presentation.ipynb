{
 "cells": [
  {
   "cell_type": "code",
   "execution_count": 1,
   "metadata": {
    "ExecuteTime": {
     "end_time": "2020-06-22T08:33:20.657966Z",
     "start_time": "2020-06-22T08:33:19.985134Z"
    }
   },
   "outputs": [],
   "source": [
    "import torch\n",
    "import torch.nn as nn\n",
    "import numpy as np\n",
    "import torch.nn.functional as F\n",
    "import torch.optim as optim\n",
    "from torchsummary import summary\n",
    "from torch.utils.data import Dataset, DataLoader\n",
    "from torchvision import transforms, utils\n",
    "import models\n",
    "from matplotlib.lines import Line2D\n",
    "\n",
    "import pandas as pd\n",
    "import matplotlib.pyplot as plt\n",
    "\n",
    "\n",
    "import random\n",
    "import math\n",
    "import time\n",
    "\n",
    "SEED = 1234\n",
    "\n",
    "random.seed(SEED)\n",
    "np.random.seed(SEED)\n",
    "torch.manual_seed(SEED)\n",
    "torch.cuda.manual_seed(SEED)\n",
    "torch.backends.cudnn.deterministic = True\n",
    "device = torch.device('cuda' if torch.cuda.is_available() else 'cpu')"
   ]
  },
  {
   "cell_type": "code",
   "execution_count": 2,
   "metadata": {
    "ExecuteTime": {
     "end_time": "2020-06-22T08:33:30.369214Z",
     "start_time": "2020-06-22T08:33:30.222749Z"
    }
   },
   "outputs": [
    {
     "name": "stdout",
     "output_type": "stream",
     "text": [
      "number of test set : 5888\n",
      "number of train set : 18840\n",
      "number of val set:  4711\n"
     ]
    }
   ],
   "source": [
    "class CustomStockData(Dataset):\n",
    "\n",
    "    def __init__(self, csv_file, root_dir=None, transform=None):\n",
    "\n",
    "        self.csv = pd.read_pickle(csv_file)\n",
    "\n",
    "    def __len__(self):\n",
    "\n",
    "        return len(self.csv)\n",
    "\n",
    "    def __getitem__(self, idx):\n",
    "\n",
    "        if torch.is_tensor(idx):\n",
    "            idx = idx.tolist()\n",
    "\n",
    "        source = self.csv.iloc[idx].src\n",
    "        target = self.csv.iloc[idx].trg\n",
    "        initprice = self.csv.iloc[idx].initopen\n",
    "        name = self.csv.iloc[idx]['name']\n",
    "\n",
    "        sample = {'src': source, 'trg': target,\n",
    "                  'initprice': initprice, 'symbol': name}\n",
    "\n",
    "        return sample\n",
    "\n",
    "\n",
    "data = CustomStockData(\n",
    "    'techcompdata/5yrs/srctrg_set75_45VOC_trgpad_augment.pkl')\n",
    "\n",
    "trainlen = int(len(data)*0.8)\n",
    "testlen = len(data)-trainlen\n",
    "\n",
    "train, test = torch.utils.data.random_split(data, [trainlen, testlen])\n",
    "\n",
    "testloader = DataLoader(test, batch_size=32,\n",
    "                        shuffle=True, num_workers=4)\n",
    "\n",
    "print(f'number of test set : {len(testloader.dataset)}')\n",
    "\n",
    "trainlen = int(len(train)*0.8)\n",
    "vallen = len(train)-trainlen\n",
    "\n",
    "train_set, val_set = torch.utils.data.random_split(train, [trainlen, vallen])\n",
    "\n",
    "trainloader = DataLoader(train_set, batch_size=32,\n",
    "                         shuffle=True, num_workers=4)\n",
    "valloader = DataLoader(val_set, batch_size=32,\n",
    "                       shuffle=True, num_workers=4)\n",
    "\n",
    "print(f\"number of train set : {len(trainloader.dataset)}\")\n",
    "print(f\"number of val set:  {len(valloader.dataset)}\")"
   ]
  },
  {
   "cell_type": "code",
   "execution_count": 3,
   "metadata": {
    "ExecuteTime": {
     "end_time": "2020-06-22T08:33:34.697429Z",
     "start_time": "2020-06-22T08:33:33.192028Z"
    }
   },
   "outputs": [
    {
     "data": {
      "text/plain": [
       "<All keys matched successfully>"
      ]
     },
     "execution_count": 3,
     "metadata": {},
     "output_type": "execute_result"
    }
   ],
   "source": [
    "Encode = models.TransformerEncoderV1(3,device,dmodel=256,layers=4,drop=.05)\n",
    "Decode = models.TransformerDecoderV1(3,device,dmodel=256,layers=4,drop=.05)\n",
    "Transformer = models.TransformerV1(Encode,Decode,3,dmodel=256).to(device)\n",
    "Transformer.load_state_dict(torch.load('TransformerV4_trgpad75_45.pt'))"
   ]
  },
  {
   "cell_type": "code",
   "execution_count": 4,
   "metadata": {
    "ExecuteTime": {
     "end_time": "2020-06-22T08:33:36.268775Z",
     "start_time": "2020-06-22T08:33:36.255642Z"
    },
    "code_folding": [
     0,
     20,
     40
    ]
   },
   "outputs": [],
   "source": [
    "def draw_line_normalized_open(src,trg,stockname,prediction,):\n",
    "    \n",
    "    srclen=src.shape[1]\n",
    "    trglen=trg.shape[1]\n",
    "\n",
    "    plt.plot([i for i in range(srclen)],\n",
    "             src[0][:], 'b', label='src', alpha=.6)\n",
    "    \n",
    "    plt.plot([i for i in range(srclen,srclen+trglen)],\n",
    "             trg[0,:][:], 'r', label='trg')\n",
    "    \n",
    "    plt.plot([i for i in range(srclen,srclen+trglen)],\n",
    "             prediction, 'g', label='pred')\n",
    "    plt.title(\n",
    "        f'Stock : {stockname} Open')\n",
    "    plt.legend()\n",
    "    plt.grid()\n",
    "    plt.rcParams[\"figure.figsize\"] = (13,4)\n",
    "    plt.show\n",
    "    \n",
    "def draw_line_normalized_close(src,trg,stockname,prediction,):\n",
    "    \n",
    "    srclen=src.shape[1]\n",
    "    trglen=trg.shape[1]\n",
    "\n",
    "    plt.plot([i for i in range(srclen)],\n",
    "             src[1][:], 'b', label='src', alpha=.6)\n",
    "    \n",
    "    plt.plot([i for i in range(srclen,srclen+trglen)],\n",
    "             trg[1,:][:], 'r', label='trg')\n",
    "    \n",
    "    plt.plot([i for i in range(srclen,srclen+trglen)],\n",
    "             prediction, 'g', label='pred')\n",
    "    plt.title(\n",
    "        f'Stock : {stockname} Close')\n",
    "    plt.legend()\n",
    "    plt.grid()\n",
    "#     plt.rcParams[\"figure.figsize\"] = (8,5)\n",
    "    plt.show\n",
    "    \n",
    "def draw_line_normalized_vol(src,trg,stockname,prediction,):\n",
    "    \n",
    "    srclen=src.shape[1]\n",
    "    trglen=trg.shape[1]\n",
    "\n",
    "    plt.plot([i for i in range(srclen)],\n",
    "             src[2][:], 'b', label='src', alpha=.6)\n",
    "    \n",
    "    plt.plot([i for i in range(srclen,srclen+trglen)],\n",
    "             trg[2,:][:], 'r', label='trg')\n",
    "    \n",
    "    plt.plot([i for i in range(srclen,srclen+trglen)],\n",
    "             prediction, 'g', label='pred')\n",
    "    plt.title(\n",
    "        f'Stock : {stockname} Volume')\n",
    "    plt.legend()\n",
    "    plt.grid()\n",
    "#     plt.rcParams[\"figure.figsize\"] = (8,5)\n",
    "    plt.show"
   ]
  },
  {
   "cell_type": "code",
   "execution_count": 5,
   "metadata": {
    "ExecuteTime": {
     "end_time": "2020-06-22T08:33:36.953219Z",
     "start_time": "2020-06-22T08:33:36.943354Z"
    },
    "code_folding": [
     0,
     19
    ]
   },
   "outputs": [],
   "source": [
    "def eval_model_trgpadd(model, loss_func, src, trg, trgpadsize):\n",
    "\n",
    "    model.eval()\n",
    "\n",
    "    with torch.no_grad():\n",
    "\n",
    "        src = src.clone().detach().to(device).permute(2, 0, 1)\n",
    "        trg_input = trg.clone().detach().to(device).permute(\n",
    "            2, 0, 1)[:-1, :, :]  # modified this line temporarily\n",
    "        trg_no_pad = trg.clone().detach().to(\n",
    "            device).permute(2, 0, 1)[trgpadsize:, :, :]\n",
    "\n",
    "        prediction = model(src, trg_input)\n",
    "        prediction = prediction[trgpadsize-1:, :, :]\n",
    "        loss = criterion(prediction, trg_no_pad)\n",
    "\n",
    "    return loss\n",
    "\n",
    "\n",
    "def model_predict_padtrg(model, src, trg, trgpadsize):\n",
    "\n",
    "    src = torch.from_numpy(src).to(device)\n",
    "    src = src.unsqueeze(2).permute(1, 2, 0)\n",
    "    trg = torch.from_numpy(trg).to(device)\n",
    "    trg = trg.unsqueeze(2).permute(1, 2, 0)\n",
    "    trglen = trg.shape[0]-trgpadsize\n",
    "\n",
    "    with torch.no_grad():\n",
    "\n",
    "        tgt = trg.clone().detach()[:trgpadsize, :, :]\n",
    "\n",
    "        for i in range(trglen):\n",
    "            model.eval()\n",
    "            result = model(src, tgt)\n",
    "            result = result[-1, :, :].unsqueeze(0)\n",
    "\n",
    "            tgt = torch.cat((tgt, result), dim=0)\n",
    "\n",
    "    return tgt"
   ]
  },
  {
   "cell_type": "code",
   "execution_count": 8,
   "metadata": {
    "ExecuteTime": {
     "end_time": "2020-06-22T08:35:03.506897Z",
     "start_time": "2020-06-22T08:34:54.034411Z"
    },
    "code_folding": [
     6,
     21,
     36
    ]
   },
   "outputs": [
    {
     "name": "stdout",
     "output_type": "stream",
     "text": [
      "RMSE for train set:  0.058194553597528585\n",
      "RMSE for val set:  0.0585941185464256\n",
      "RMSE for test set:  0.05839861967914145\n"
     ]
    }
   ],
   "source": [
    "criterion = nn.MSELoss(reduction='sum')\n",
    "\n",
    "\n",
    "##############################################################################################################\n",
    "trainloss = 0\n",
    "\n",
    "for idx, sample in enumerate(trainloader):\n",
    "\n",
    "    src = sample['src']\n",
    "    trg = sample['trg']\n",
    "\n",
    "    trainloss_ = eval_model_trgpadd(Transformer, criterion, src, trg, 15)\n",
    "    trainloss += trainloss_.item()\n",
    "\n",
    "trainloss = trainloss/len(trainloader.dataset)\n",
    "print('RMSE for train set: ',math.sqrt(trainloss))\n",
    "\n",
    "###############################################################################################################\n",
    "\n",
    "valloss = 0\n",
    "\n",
    "for idx, sample in enumerate(valloader):\n",
    "\n",
    "    src = sample['src']\n",
    "    trg = sample['trg']\n",
    "\n",
    "    valloss_ = eval_model_trgpadd(Transformer, criterion, src, trg, 15)\n",
    "    valloss += valloss_.item()\n",
    "\n",
    "valloss = valloss/len(valloader.dataset)\n",
    "print('RMSE for val set: ',math.sqrt(valloss))\n",
    "\n",
    "###############################################################################################################\n",
    "\n",
    "testloss = 0\n",
    "\n",
    "for idx, sample in enumerate(testloader):\n",
    "\n",
    "    src = sample['src']\n",
    "    trg = sample['trg']\n",
    "\n",
    "    testloss_ = eval_model_trgpadd(Transformer, criterion, src, trg, 15)\n",
    "    testloss += testloss_.item()\n",
    "\n",
    "testloss = testloss/len(testloader.dataset)\n",
    "print('RMSE for test set: ',math.sqrt(testloss))"
   ]
  },
  {
   "cell_type": "code",
   "execution_count": null,
   "metadata": {
    "ExecuteTime": {
     "end_time": "2020-06-22T08:32:39.720101Z",
     "start_time": "2020-06-22T08:32:36.825075Z"
    }
   },
   "outputs": [],
   "source": [
    "length = len(valloader.dataset)\n",
    "idx=np.random.randint(0,length,10)\n",
    "\n",
    "for i in idx:\n",
    "\n",
    "    src = valloader.dataset[i]['src']\n",
    "    trg = valloader.dataset[i]['trg']\n",
    "\n",
    "    stockname = data[i]['symbol']\n",
    "\n",
    "    prediction = model_predict_padtrg(Transformer, src, trg,15)[:, :, 0]\n",
    "    prediction = prediction.squeeze(1)\n",
    "    prediction = prediction.detach().cpu().numpy()\n",
    "    \n",
    "    draw_line_normalized_open(src, trg, stockname, prediction)\n",
    "    plt.show()"
   ]
  },
  {
   "cell_type": "code",
   "execution_count": null,
   "metadata": {
    "ExecuteTime": {
     "end_time": "2020-06-22T08:32:44.252424Z",
     "start_time": "2020-06-22T08:32:41.048192Z"
    }
   },
   "outputs": [],
   "source": [
    "length = len(valloader.dataset)\n",
    "idx=np.random.randint(0,length,10)\n",
    "\n",
    "for i in idx:\n",
    "\n",
    "    src = valloader.dataset[i]['src']\n",
    "    trg = valloader.dataset[i]['trg']\n",
    "\n",
    "    stockname = data[i]['symbol']\n",
    "\n",
    "    prediction = model_predict_padtrg(Transformer, src, trg,15)[:, :, 1]\n",
    "    prediction = prediction.squeeze(1)\n",
    "    prediction = prediction.detach().cpu().numpy()\n",
    "    \n",
    "    draw_line_normalized_close(src, trg, stockname, prediction)\n",
    "    plt.show()"
   ]
  },
  {
   "cell_type": "code",
   "execution_count": null,
   "metadata": {
    "ExecuteTime": {
     "end_time": "2020-06-22T08:32:52.303116Z",
     "start_time": "2020-06-22T08:32:49.328110Z"
    }
   },
   "outputs": [],
   "source": [
    "length = len(valloader.dataset)\n",
    "idx=np.random.randint(0,length,10)\n",
    "\n",
    "for i in idx:\n",
    "\n",
    "    src = valloader.dataset[i]['src']\n",
    "    trg = valloader.dataset[i]['trg']\n",
    "\n",
    "    stockname = data[i]['symbol']\n",
    "\n",
    "    prediction = model_predict_padtrg(Transformer, src, trg,15)[:, :, 2]\n",
    "    prediction = prediction.squeeze(1)\n",
    "    prediction = prediction.detach().cpu().numpy()\n",
    "    \n",
    "    draw_line_normalized_vol(src, trg, stockname, prediction)\n",
    "    plt.show()"
   ]
  },
  {
   "cell_type": "code",
   "execution_count": null,
   "metadata": {},
   "outputs": [],
   "source": [
    "length = len(valloader.dataset)\n",
    "idx=np.random.randint(0,length,30)\n",
    "\n",
    "for i in idx:\n",
    "    \n",
    "    src = valloader.dataset[i]['src']\n",
    "    trg = valloader.dataset[i]['trg']\n",
    "    stockname = data[i]['symbol']\n",
    "\n",
    "\n",
    "\n",
    "    prediction = model_predict_padtrg(Transformer, src, trg,15)\n",
    "    prediction = prediction.detach().cpu().numpy()\n",
    "    plt.subplot(131)\n",
    "    draw_line_normalized_open(src, trg, stockname, prediction[:, :, 0].squeeze(1))\n",
    "    plt.subplot(132)\n",
    "    draw_line_normalized_close(src, trg, stockname, prediction[:, :, 1].squeeze(1))\n",
    "    plt.subplot(133)\n",
    "    draw_line_normalized_vol(src, trg, stockname, prediction[:, :, 2].squeeze(1))\n",
    "    \n",
    "    plt.show()"
   ]
  }
 ],
 "metadata": {
  "kernelspec": {
   "display_name": "Python 3",
   "language": "python",
   "name": "python3"
  },
  "language_info": {
   "codemirror_mode": {
    "name": "ipython",
    "version": 3
   },
   "file_extension": ".py",
   "mimetype": "text/x-python",
   "name": "python",
   "nbconvert_exporter": "python",
   "pygments_lexer": "ipython3",
   "version": "3.7.6"
  },
  "toc": {
   "base_numbering": 1,
   "nav_menu": {},
   "number_sections": true,
   "sideBar": true,
   "skip_h1_title": false,
   "title_cell": "Table of Contents",
   "title_sidebar": "Contents",
   "toc_cell": false,
   "toc_position": {},
   "toc_section_display": true,
   "toc_window_display": false
  },
  "varInspector": {
   "cols": {
    "lenName": 16,
    "lenType": 16,
    "lenVar": 40
   },
   "kernels_config": {
    "python": {
     "delete_cmd_postfix": "",
     "delete_cmd_prefix": "del ",
     "library": "var_list.py",
     "varRefreshCmd": "print(var_dic_list())"
    },
    "r": {
     "delete_cmd_postfix": ") ",
     "delete_cmd_prefix": "rm(",
     "library": "var_list.r",
     "varRefreshCmd": "cat(var_dic_list()) "
    }
   },
   "types_to_exclude": [
    "module",
    "function",
    "builtin_function_or_method",
    "instance",
    "_Feature"
   ],
   "window_display": false
  }
 },
 "nbformat": 4,
 "nbformat_minor": 4
}
